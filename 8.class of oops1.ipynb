{
 "cells": [
  {
   "cell_type": "code",
   "execution_count": 10,
   "metadata": {},
   "outputs": [],
   "source": [
    " def agecateagery():\n",
    "        age=int(input(\"enter the age:\"))\n",
    "        if(age<18):\n",
    "            print(\"children\")\n",
    "            cat=\"chlid\"\n",
    "        elif(age<35):\n",
    "            print(\"adult\")\n",
    "            cate=\"adult\"\n",
    "        elif(age<59):\n",
    "            print(\"citizen\")\n",
    "            cate=\"citizen\"\n",
    "        else:\n",
    "            print(\"senier citizen\")\n",
    "            cate=\"senier citizen\"\n",
    "        return cate    \n",
    "    \n"
   ]
  },
  {
   "cell_type": "code",
   "execution_count": 33,
   "metadata": {},
   "outputs": [
    {
     "name": "stdout",
     "output_type": "stream",
     "text": [
      "enter the age:22\n",
      "adult\n"
     ]
    }
   ],
   "source": [
    "\n",
    "agecate=agecateagery()"
   ]
  },
  {
   "cell_type": "markdown",
   "metadata": {},
   "source": []
  },
  {
   "cell_type": "code",
   "execution_count": 5,
   "metadata": {},
   "outputs": [
    {
     "name": "stdout",
     "output_type": "stream",
     "text": [
      "citizen\n"
     ]
    }
   ],
   "source": [
    "print(agecate)"
   ]
  },
  {
   "cell_type": "code",
   "execution_count": 44,
   "metadata": {},
   "outputs": [],
   "source": [
    "# BODY MASS INDEX\n",
    "def bmi():\n",
    "    bmi=int(input(\"enter the bmi index:\"))\n",
    "    if(bmi<18.5):\n",
    "        print(\"under weight\")\n",
    "        message=(\"under weight\")\n",
    "    elif(bmi<24.9):\n",
    "        print(\"normal\")\n",
    "        message=(\"normal\")\n",
    "    elif(bmi<29.9):\n",
    "        print(\"over weight\")\n",
    "        message(\"over weight\")\n",
    "    else:\n",
    "        print(\"very over weight\")\n",
    "        message=(\"very over weight\")\n",
    "    return bmi   \n"
   ]
  },
  {
   "cell_type": "code",
   "execution_count": 45,
   "metadata": {},
   "outputs": [
    {
     "name": "stdout",
     "output_type": "stream",
     "text": [
      "enter the bmi index:35\n",
      "very over weight\n"
     ]
    },
    {
     "data": {
      "text/plain": [
       "35"
      ]
     },
     "execution_count": 45,
     "metadata": {},
     "output_type": "execute_result"
    }
   ],
   "source": [
    "bmi()"
   ]
  },
  {
   "cell_type": "code",
   "execution_count": 4,
   "metadata": {},
   "outputs": [
    {
     "name": "stdout",
     "output_type": "stream",
     "text": [
      "enter the bmi index:34\n",
      "very over weight\n"
     ]
    }
   ],
   "source": [
    "message=bmi()"
   ]
  },
  {
   "cell_type": "code",
   "execution_count": 5,
   "metadata": {},
   "outputs": [
    {
     "data": {
      "text/plain": [
       "34"
      ]
     },
     "execution_count": 5,
     "metadata": {},
     "output_type": "execute_result"
    }
   ],
   "source": [
    "message"
   ]
  },
  {
   "cell_type": "markdown",
   "metadata": {},
   "source": []
  },
  {
   "cell_type": "code",
   "execution_count": 20,
   "metadata": {},
   "outputs": [],
   "source": [
    "def addition(num1,num2):\n",
    "    add=(num1+num2)\n",
    "    return add\n",
    "    "
   ]
  },
  {
   "cell_type": "code",
   "execution_count": 21,
   "metadata": {},
   "outputs": [
    {
     "data": {
      "text/plain": [
       "69"
      ]
     },
     "execution_count": 21,
     "metadata": {},
     "output_type": "execute_result"
    }
   ],
   "source": [
    "addition(15,54)"
   ]
  },
  {
   "cell_type": "code",
   "execution_count": 56,
   "metadata": {},
   "outputs": [],
   "source": [
    "class multiplefunction():\n",
    "    def agecateagery():\n",
    "        age=int(input(\"enter the age:\"))\n",
    "        if(age<18):\n",
    "            print(\"children\")\n",
    "            cat=\"chlid\"\n",
    "        elif(age<35):\n",
    "            print(\"adult\")\n",
    "            cate=\"adult\"\n",
    "        elif(age<59):\n",
    "            print(\"citizen\")\n",
    "            cate=\"citizen\"\n",
    "        else:\n",
    "            print(\"senier citizen\")\n",
    "            cate=\"senier citizen\"\n",
    "        return cate    \n",
    "    \n",
    "    def bmi():\n",
    "        bmi=int(input(\"enter the bmi index:\"))\n",
    "        if(bmi<18.5):\n",
    "            print(\"under weight\")\n",
    "            message=(\"under weight\")\n",
    "        elif(bmi<24.9):\n",
    "            print(\"normal\")\n",
    "            message=(\"normal\")\n",
    "        elif(bmi<29.9):\n",
    "            print(\"over weight\")\n",
    "            message(\"over weight\")\n",
    "        else:\n",
    "            print(\"very over weight\")\n",
    "            message=(\"very over weight\")\n",
    "        return bmi\n",
    "    \n",
    "\n",
    "\n"
   ]
  },
  {
   "cell_type": "code",
   "execution_count": 49,
   "metadata": {},
   "outputs": [
    {
     "name": "stdout",
     "output_type": "stream",
     "text": [
      "enter the age:23\n",
      "adult\n"
     ]
    },
    {
     "data": {
      "text/plain": [
       "'adult'"
      ]
     },
     "execution_count": 49,
     "metadata": {},
     "output_type": "execute_result"
    }
   ],
   "source": [
    "multiplefunction.agecateagery()"
   ]
  },
  {
   "cell_type": "code",
   "execution_count": 53,
   "metadata": {},
   "outputs": [
    {
     "name": "stdout",
     "output_type": "stream",
     "text": [
      "enter the bmi index:45\n",
      "very over weight\n"
     ]
    },
    {
     "data": {
      "text/plain": [
       "45"
      ]
     },
     "execution_count": 53,
     "metadata": {},
     "output_type": "execute_result"
    }
   ],
   "source": [
    "multiplefunction.bmi()"
   ]
  },
  {
   "cell_type": "code",
   "execution_count": 58,
   "metadata": {},
   "outputs": [],
   "source": [
    "n=1"
   ]
  },
  {
   "cell_type": "code",
   "execution_count": null,
   "metadata": {},
   "outputs": [],
   "source": []
  }
 ],
 "metadata": {
  "kernelspec": {
   "display_name": "Python 3",
   "language": "python",
   "name": "python3"
  },
  "language_info": {
   "codemirror_mode": {
    "name": "ipython",
    "version": 3
   },
   "file_extension": ".py",
   "mimetype": "text/x-python",
   "name": "python",
   "nbconvert_exporter": "python",
   "pygments_lexer": "ipython3",
   "version": "3.7.4"
  }
 },
 "nbformat": 4,
 "nbformat_minor": 2
}
