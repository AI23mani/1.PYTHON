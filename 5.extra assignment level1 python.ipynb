{
 "cells": [
  {
   "cell_type": "code",
   "execution_count": 2,
   "metadata": {},
   "outputs": [
    {
     "name": "stdout",
     "output_type": "stream",
     "text": [
      "HOPE AI\n"
     ]
    }
   ],
   "source": [
    "# print statement\n",
    "print(\"HOPE AI\")"
   ]
  },
  {
   "cell_type": "code",
   "execution_count": 3,
   "metadata": {},
   "outputs": [
    {
     "name": "stdout",
     "output_type": "stream",
     "text": [
      "enter your institute name?:HOPE AI\n"
     ]
    }
   ],
   "source": [
    "# BUY INPUT\n",
    "instituename=input(\"enter your institute name?:\")\n"
   ]
  },
  {
   "cell_type": "code",
   "execution_count": 5,
   "metadata": {},
   "outputs": [
    {
     "name": "stdout",
     "output_type": "stream",
     "text": [
      "enter your name:Raj\n",
      "enter your age:15\n",
      "enter your school name:Guru school\n",
      "enter your degree:B.E CSE\n"
     ]
    }
   ],
   "source": [
    "# BUY INPUTS\n",
    "name=input(\"enter your name:\")\n",
    "age=int(input(\"enter your age:\"))\n",
    "schoolname=input(\"enter your school name:\")\n",
    "degree=input(\"enter your degree:\")\n"
   ]
  },
  {
   "cell_type": "code",
   "execution_count": 6,
   "metadata": {},
   "outputs": [
    {
     "name": "stdout",
     "output_type": "stream",
     "text": [
      "a: 43\n",
      "b: 34\n",
      "add: 77\n"
     ]
    }
   ],
   "source": [
    "# ADDITION\n",
    "a=43\n",
    "b=34\n",
    "add=a+b\n",
    "print(\"a:\",a)\n",
    "print(\"b:\",b)\n",
    "print(\"add:\",add)"
   ]
  },
  {
   "cell_type": "code",
   "execution_count": 7,
   "metadata": {},
   "outputs": [
    {
     "name": "stdout",
     "output_type": "stream",
     "text": [
      "a: 43\n",
      "b: 34\n",
      "sub: 9\n"
     ]
    }
   ],
   "source": [
    "# SUBTRACTION\n",
    "print(\"a:\",a)\n",
    "print(\"b:\",b)\n",
    "print(\"sub:\",a-b)"
   ]
  },
  {
   "cell_type": "code",
   "execution_count": 8,
   "metadata": {},
   "outputs": [
    {
     "name": "stdout",
     "output_type": "stream",
     "text": [
      "a: 63\n",
      "b: 97\n",
      "Mul: 6111\n"
     ]
    }
   ],
   "source": [
    "# MULTIPLICATION\n",
    "a=63\n",
    "b=97\n",
    "mul=a*b\n",
    "print(\"a:\",a)\n",
    "print(\"b:\",b)\n",
    "print(\"Mul:\",mul)"
   ]
  },
  {
   "cell_type": "code",
   "execution_count": 9,
   "metadata": {},
   "outputs": [
    {
     "name": "stdout",
     "output_type": "stream",
     "text": [
      "a: 76\n",
      "b: 31\n",
      "float div: 2.4516129032258065\n"
     ]
    }
   ],
   "source": [
    "# DIVISION\n",
    "a=76\n",
    "b=31\n",
    "div=a/b\n",
    "print(\"a:\",a)\n",
    "print(\"b:\",b)\n",
    "print(\"float div:\",div)"
   ]
  },
  {
   "cell_type": "code",
   "execution_count": 11,
   "metadata": {},
   "outputs": [
    {
     "name": "stdout",
     "output_type": "stream",
     "text": [
      "a: 76\n",
      "b: 31\n",
      "floor div: 2\n"
     ]
    }
   ],
   "source": [
    "# FLOOR DIVISION\n",
    "div=a//b\n",
    "print(\"a:\",a)\n",
    "print(\"b:\",b)\n",
    "print(\"floor div:\",div)"
   ]
  },
  {
   "cell_type": "code",
   "execution_count": 12,
   "metadata": {},
   "outputs": [
    {
     "name": "stdout",
     "output_type": "stream",
     "text": [
      "a: 76\n",
      "b: 31\n",
      "modulo: 14\n"
     ]
    }
   ],
   "source": [
    "#MODULO\n",
    "mod=a%b\n",
    "print(\"a:\",a)\n",
    "print(\"b:\",b)\n",
    "print(\"modulo:\",mod)\n",
    "\n"
   ]
  },
  {
   "cell_type": "code",
   "execution_count": 1,
   "metadata": {},
   "outputs": [
    {
     "name": "stdout",
     "output_type": "stream",
     "text": [
      "256\n"
     ]
    }
   ],
   "source": [
    "# using the power\n",
    "a=4\n",
    "b=4\n",
    "power=(4**4)\n",
    "print(power)\n"
   ]
  },
  {
   "cell_type": "code",
   "execution_count": null,
   "metadata": {},
   "outputs": [],
   "source": []
  },
  {
   "cell_type": "code",
   "execution_count": 3,
   "metadata": {},
   "outputs": [
    {
     "name": "stdout",
     "output_type": "stream",
     "text": [
      "256\n"
     ]
    }
   ],
   "source": []
  },
  {
   "cell_type": "code",
   "execution_count": null,
   "metadata": {},
   "outputs": [],
   "source": []
  }
 ],
 "metadata": {
  "kernelspec": {
   "display_name": "Python 3",
   "language": "python",
   "name": "python3"
  },
  "language_info": {
   "codemirror_mode": {
    "name": "ipython",
    "version": 3
   },
   "file_extension": ".py",
   "mimetype": "text/x-python",
   "name": "python",
   "nbconvert_exporter": "python",
   "pygments_lexer": "ipython3",
   "version": "3.7.4"
  }
 },
 "nbformat": 4,
 "nbformat_minor": 2
}
