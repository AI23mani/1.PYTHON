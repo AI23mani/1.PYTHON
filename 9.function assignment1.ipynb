{
 "cells": [
  {
   "cell_type": "code",
   "execution_count": null,
   "metadata": {},
   "outputs": [],
   "source": [
    "# create class and function,and list out the items in the list"
   ]
  },
  {
   "cell_type": "code",
   "execution_count": 50,
   "metadata": {},
   "outputs": [],
   "source": [
    "list=(\"Machine learning\\nNeural Networks\\nvision\\nRobotics\\nSpeech processing\\nNatural language processing\")\n",
    "def subfieldsai():\n",
    "    print(\"sub-fields In AI are:\")\n",
    "    print(list)\n",
    "    "
   ]
  },
  {
   "cell_type": "code",
   "execution_count": 51,
   "metadata": {},
   "outputs": [
    {
     "name": "stdout",
     "output_type": "stream",
     "text": [
      "sub-fields In AI are:\n",
      "Machine learning\n",
      "Neural Networks\n",
      "vision\n",
      "Robotics\n",
      "Speech processing\n",
      "Natural language processing\n"
     ]
    }
   ],
   "source": [
    "subfieldsai()"
   ]
  },
  {
   "cell_type": "code",
   "execution_count": null,
   "metadata": {},
   "outputs": [],
   "source": [
    "# Create function that checks whether the given num  is odd or even"
   ]
  },
  {
   "cell_type": "code",
   "execution_count": 52,
   "metadata": {},
   "outputs": [],
   "source": [
    " def oddeven():\n",
    "    num=int(input(\"enter the number:\"))\n",
    "    if(num%2==1):\n",
    "        print(\"odd number\")\n",
    "        message=\"odd number\"\n",
    "    else:\n",
    "        print(\"even number\")\n",
    "        message=\"even number\"\n",
    "    return message\n"
   ]
  },
  {
   "cell_type": "code",
   "execution_count": 53,
   "metadata": {
    "scrolled": true
   },
   "outputs": [
    {
     "name": "stdout",
     "output_type": "stream",
     "text": [
      "enter the number:52452\n",
      "even number\n"
     ]
    },
    {
     "data": {
      "text/plain": [
       "'even number'"
      ]
     },
     "execution_count": 53,
     "metadata": {},
     "output_type": "execute_result"
    }
   ],
   "source": [
    "oddeven()"
   ]
  },
  {
   "cell_type": "code",
   "execution_count": 54,
   "metadata": {
    "scrolled": true
   },
   "outputs": [
    {
     "name": "stdout",
     "output_type": "stream",
     "text": [
      "enter the number:52452\n",
      "even number\n"
     ]
    }
   ],
   "source": [
    "message=oddeven()"
   ]
  },
  {
   "cell_type": "code",
   "execution_count": 55,
   "metadata": {},
   "outputs": [
    {
     "name": "stdout",
     "output_type": "stream",
     "text": [
      "enter the number:52452\n",
      "52452 is even number\n"
     ]
    }
   ],
   "source": [
    "num=int(input(\"enter the number:\"))\n",
    "if(message==\"even number\"):\n",
    "    print(\"52452 is even number\")\n",
    "else:\n",
    "    print(\"52452 is odd number\")"
   ]
  },
  {
   "cell_type": "code",
   "execution_count": null,
   "metadata": {},
   "outputs": [],
   "source": [
    "# Create the function that tells eligibility of marriage for malem and female according to theier age like for  male 21 and 18 for female\n"
   ]
  },
  {
   "cell_type": "markdown",
   "metadata": {},
   "source": [
    " "
   ]
  },
  {
   "cell_type": "code",
   "execution_count": null,
   "metadata": {},
   "outputs": [],
   "source": [
    "agelist=[18,20,21]"
   ]
  },
  {
   "cell_type": "code",
   "execution_count": 12,
   "metadata": {},
   "outputs": [],
   "source": [
    "def elgibileformarriage():\n",
    "    gender=input(\"Enter your Gender:\")\n",
    "    age=int(input(\"Enter your Age:\"))\n",
    "    if(gender in (\"male\")):\n",
    "        if(age>=21):\n",
    "            print(\"eligible\")\n",
    "        else:\n",
    "            print(\"not elgible\")\n",
    "            \n",
    "    if(gender in (\"female\")):\n",
    "        if(age>=18):\n",
    "            print(\"elgible\")\n",
    "        else:\n",
    "            print(\"not elgible\")"
   ]
  },
  {
   "cell_type": "code",
   "execution_count": 14,
   "metadata": {},
   "outputs": [
    {
     "name": "stdout",
     "output_type": "stream",
     "text": [
      "Enter your Gender:female\n",
      "Enter your Age:11\n",
      "not elgible\n"
     ]
    }
   ],
   "source": [
    " elgibileformarriage()"
   ]
  },
  {
   "cell_type": "code",
   "execution_count": null,
   "metadata": {},
   "outputs": [],
   "source": []
  },
  {
   "cell_type": "code",
   "execution_count": null,
   "metadata": {},
   "outputs": [],
   "source": [
    "# calculate the percentage of your 10th mark"
   ]
  },
  {
   "cell_type": "code",
   "execution_count": 12,
   "metadata": {},
   "outputs": [],
   "source": [
    "def percentage():\n",
    "    a=int(input(\"subject 1=\"))\n",
    "    b=int(input(\"subject 2=\"))\n",
    "    c=int(input(\"subject 3=\"))\n",
    "    d=int(input(\"subject 4=\"))\n",
    "    e=int(input(\"subject 5=\"))\n",
    "    total=a+b+c+d+e\n",
    "    print(\"total:\",total)\n",
    "    per=(total/500)*100\n",
    "    print(per)\n",
    "    print(\"percentage:\",per)"
   ]
  },
  {
   "cell_type": "markdown",
   "metadata": {},
   "source": []
  },
  {
   "cell_type": "code",
   "execution_count": 13,
   "metadata": {},
   "outputs": [
    {
     "name": "stdout",
     "output_type": "stream",
     "text": [
      "subject 1=87\n",
      "subject 2=98\n",
      "subject 3=95\n",
      "subject 4=95\n",
      "subject 5=93\n",
      "total: 468\n",
      "93.60000000000001\n",
      "percentage: 93.60000000000001\n"
     ]
    }
   ],
   "source": [
    "percentage()"
   ]
  },
  {
   "cell_type": "markdown",
   "metadata": {},
   "source": []
  },
  {
   "cell_type": "code",
   "execution_count": null,
   "metadata": {},
   "outputs": [],
   "source": [
    "# print area and perimeter of triangle using class and function"
   ]
  },
  {
   "cell_type": "code",
   "execution_count": 12,
   "metadata": {},
   "outputs": [],
   "source": [
    "class multifunction():\n",
    "    def areatriangle(height,bredth):\n",
    "        height=32\n",
    "        bredth=34\n",
    "        print(\"height=32\")\n",
    "        print(\"bredth=34\")\n",
    "        print(\"area formula:(height*bredth)/2\")\n",
    "        area=(32*34)/2\n",
    "        print(\"area of triangle:\",area)\n",
    "        return area\n",
    "    def perimetertriangle(height1,height2,bredth):\n",
    "        height1=2\n",
    "        height2=4\n",
    "        bredth=4\n",
    "        print(\"height1=2\")\n",
    "        print(\"height2=4\")\n",
    "        print(\"bredth=4\")\n",
    "        print(\"perimeter of formula:height1+height2+bredth\")\n",
    "        perimeter=height1+height2+bredth\n",
    "        print(\"perimeter of triangle: \", perimeter)\n",
    "        return perimeter\n",
    "\n",
    "    def subfieldsai():\n",
    "        list=(\"Machine learning\\nNeural Networks\\nvision\\nRobotics\\nSpeech processing\\nNatural language processing\")\n",
    "        print(\"sub-fields In AI are:\")\n",
    "        print(list)\n",
    "  \n",
    "    def percentage():\n",
    "        a=int(input(\"subject 1=\"))\n",
    "        b=int(input(\"subject 2=\"))\n",
    "        c=int(input(\"subject 3=\"))\n",
    "        d=int(input(\"subject 4=\"))\n",
    "        e=int(input(\"subject 5=\"))\n",
    "        total=a+b+c+d+e\n",
    "        print(\"total:\",total)\n",
    "        per=(total/500)*100\n",
    "        print(per)\n",
    "        print(\"percentage:\",per)          \n",
    "    def elgibileformarriage():\n",
    "        gender=input(\"Enter your Gender:\")\n",
    "        age=int(input(\"Enter your Age:\"))\n",
    "        if(gender in (\"male\")):\n",
    "            if(age>=21):\n",
    "                print(\"eligible\")\n",
    "            else:\n",
    "                print(\"not elgible\")\n",
    "        if(gender in (\"female\")):\n",
    "            if(age>=18):\n",
    "                print(\"elgible\")\n",
    "            else:\n",
    "                print(\"not elgible\")\n",
    "    def agecateagery():\n",
    "        if(age<18):\n",
    "            print(\"children\")\n",
    "            cat=\"chlid\"\n",
    "        elif(age<35):\n",
    "            print(\"adult\")\n",
    "            cate=\"adult\"\n",
    "        elif(age<59):\n",
    "            print(\"citizen\")\n",
    "            cate=\"citizen\"\n",
    "        else:\n",
    "            print(\"senier citizen\")\n",
    "            cate=\"senier citizen\"\n",
    "        return cate    \n",
    "    \n",
    "    def bmi():\n",
    "        bmi=int(input(\"enter the bmi index:\"))\n",
    "        if(bmi<18.5):\n",
    "            print(\"under weight\")\n",
    "            message=(\"under weight\")\n",
    "        elif(bmi<24.9):\n",
    "            print(\"normal\")\n",
    "            message=(\"normal\")\n",
    "        elif(bmi<29.9):\n",
    "            print(\"over weight\")\n",
    "            message(\"over weight\")\n",
    "        else:\n",
    "            print(\"very over weight\")\n",
    "            message=(\"very over weight\")\n",
    "        return bmi   \n",
    "\n",
    "\n",
    "      \n",
    "    "
   ]
  },
  {
   "cell_type": "code",
   "execution_count": 23,
   "metadata": {},
   "outputs": [
    {
     "name": "stdout",
     "output_type": "stream",
     "text": [
      "height=32\n",
      "bredth=34\n",
      "area formula:(height*bredth)/2\n",
      "area of triangle: 544.0\n",
      "height1=2\n",
      "height2=4\n",
      "bredth=4\n",
      "perimeter of formula:height1+height2+bredth\n",
      "perimeter of triangle:  10\n"
     ]
    },
    {
     "data": {
      "text/plain": [
       "10"
      ]
     },
     "execution_count": 23,
     "metadata": {},
     "output_type": "execute_result"
    }
   ],
   "source": [
    "areatriangle(32,34)\n",
    "perimetertriangle(2,4,4)"
   ]
  },
  {
   "cell_type": "code",
   "execution_count": 17,
   "metadata": {},
   "outputs": [],
   "source": [
    "ai=123"
   ]
  },
  {
   "cell_type": "code",
   "execution_count": 8,
   "metadata": {},
   "outputs": [
    {
     "name": "stdout",
     "output_type": "stream",
     "text": [
      "height=32\n",
      "bredth=34\n",
      "area formula:(height*bredth)/2\n",
      "area of triangle: 544.0\n"
     ]
    },
    {
     "data": {
      "text/plain": [
       "544.0"
      ]
     },
     "execution_count": 8,
     "metadata": {},
     "output_type": "execute_result"
    }
   ],
   "source": [
    " multifunction.areatriangle(32,34)"
   ]
  },
  {
   "cell_type": "code",
   "execution_count": 26,
   "metadata": {},
   "outputs": [
    {
     "name": "stdout",
     "output_type": "stream",
     "text": [
      "height1=2\n",
      "height2=4\n",
      "bredth=4\n",
      "perimeter of formula:height1+height2+bredth\n",
      "perimeter of triangle:  10\n"
     ]
    },
    {
     "data": {
      "text/plain": [
       "10"
      ]
     },
     "execution_count": 26,
     "metadata": {},
     "output_type": "execute_result"
    }
   ],
   "source": [
    " multifunction.perimetertriangle(2,4,4)"
   ]
  },
  {
   "cell_type": "code",
   "execution_count": 6,
   "metadata": {},
   "outputs": [
    {
     "name": "stdout",
     "output_type": "stream",
     "text": [
      "enter the age:34\n",
      "adult\n"
     ]
    },
    {
     "data": {
      "text/plain": [
       "'adult'"
      ]
     },
     "execution_count": 6,
     "metadata": {},
     "output_type": "execute_result"
    }
   ],
   "source": [
    " multifunction.agecateagery()\n",
    "\n"
   ]
  },
  {
   "cell_type": "code",
   "execution_count": 7,
   "metadata": {},
   "outputs": [
    {
     "name": "stdout",
     "output_type": "stream",
     "text": [
      "Enter your Gender:male\n",
      "Enter your Age:45\n",
      "eligible\n",
      "elgible\n"
     ]
    }
   ],
   "source": [
    " multifunction.elgibileformarriage()"
   ]
  },
  {
   "cell_type": "code",
   "execution_count": 8,
   "metadata": {},
   "outputs": [
    {
     "name": "stdout",
     "output_type": "stream",
     "text": [
      "enter the bmi index:65\n",
      "very over weight\n"
     ]
    },
    {
     "data": {
      "text/plain": [
       "65"
      ]
     },
     "execution_count": 8,
     "metadata": {},
     "output_type": "execute_result"
    }
   ],
   "source": [
    " multifunction.bmi()"
   ]
  },
  {
   "cell_type": "code",
   "execution_count": 10,
   "metadata": {},
   "outputs": [
    {
     "name": "stdout",
     "output_type": "stream",
     "text": [
      "subject 1=56\n",
      "subject 2=78\n",
      "subject 3=90\n",
      "subject 4=87\n",
      "subject 5=90\n",
      "total: 401\n",
      "80.2\n",
      "percentage: 80.2\n"
     ]
    }
   ],
   "source": [
    "multifunction.percentage()"
   ]
  },
  {
   "cell_type": "code",
   "execution_count": 11,
   "metadata": {},
   "outputs": [
    {
     "name": "stdout",
     "output_type": "stream",
     "text": [
      "sub-fields In AI are:\n",
      "Machine learning\n",
      "Neural Networks\n",
      "vision\n",
      "Robotics\n",
      "Speech processing\n",
      "Natural language processing\n"
     ]
    }
   ],
   "source": [
    "multifunction.subfieldsai()"
   ]
  },
  {
   "cell_type": "code",
   "execution_count": null,
   "metadata": {},
   "outputs": [],
   "source": []
  }
 ],
 "metadata": {
  "kernelspec": {
   "display_name": "Python 3",
   "language": "python",
   "name": "python3"
  },
  "language_info": {
   "codemirror_mode": {
    "name": "ipython",
    "version": 3
   },
   "file_extension": ".py",
   "mimetype": "text/x-python",
   "name": "python",
   "nbconvert_exporter": "python",
   "pygments_lexer": "ipython3",
   "version": "3.7.4"
  }
 },
 "nbformat": 4,
 "nbformat_minor": 2
}
